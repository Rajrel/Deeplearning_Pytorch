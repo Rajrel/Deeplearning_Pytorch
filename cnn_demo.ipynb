{
  "nbformat": 4,
  "nbformat_minor": 0,
  "metadata": {
    "colab": {
      "provenance": [],
      "authorship_tag": "ABX9TyOrc757NJW+QvZm/Fte9bY6",
      "include_colab_link": true
    },
    "kernelspec": {
      "name": "python3",
      "display_name": "Python 3"
    },
    "language_info": {
      "name": "python"
    }
  },
  "cells": [
    {
      "cell_type": "markdown",
      "metadata": {
        "id": "view-in-github",
        "colab_type": "text"
      },
      "source": [
        "<a href=\"https://colab.research.google.com/github/Rajrel/Deeplearning_Pytorch/blob/main/cnn_demo.ipynb\" target=\"_parent\"><img src=\"https://colab.research.google.com/assets/colab-badge.svg\" alt=\"Open In Colab\"/></a>"
      ]
    },
    {
      "cell_type": "code",
      "execution_count": 31,
      "metadata": {
        "id": "SILKsCQ50Xxe"
      },
      "outputs": [],
      "source": [
        "import torch\n",
        "import torch.nn as nn\n",
        "import torch.nn.functional as F\n",
        "from torch.utils.data import DataLoader\n",
        "from torchvision import datasets, transforms\n",
        "from torchvision.utils import make_grid\n",
        "\n",
        "import numpy as np\n",
        "import pandas as pd\n",
        "from sklearn.metrics import confusion_matrix\n",
        "import matplotlib.pyplot as plt\n",
        "%matplotlib inline"
      ]
    },
    {
      "cell_type": "code",
      "source": [
        "# Convert MNIST image files into a Tensor of 4 dimension (# of images, height,width, color channel)\n",
        "transform = transforms.ToTensor()"
      ],
      "metadata": {
        "id": "aBqX3Lki1gwm"
      },
      "execution_count": 2,
      "outputs": []
    },
    {
      "cell_type": "code",
      "source": [
        "# Train Data\n",
        "train_data = datasets.MNIST(root = '/cnn_data', train = True, download = True, transform=transform)"
      ],
      "metadata": {
        "colab": {
          "base_uri": "https://localhost:8080/"
        },
        "id": "TFua6TVf15oH",
        "outputId": "24e5ba19-3fb6-4bae-e05b-9164fe0123fb"
      },
      "execution_count": 4,
      "outputs": [
        {
          "output_type": "stream",
          "name": "stdout",
          "text": [
            "Downloading http://yann.lecun.com/exdb/mnist/train-images-idx3-ubyte.gz\n",
            "Failed to download (trying next):\n",
            "HTTP Error 403: Forbidden\n",
            "\n",
            "Downloading https://ossci-datasets.s3.amazonaws.com/mnist/train-images-idx3-ubyte.gz\n",
            "Downloading https://ossci-datasets.s3.amazonaws.com/mnist/train-images-idx3-ubyte.gz to /cnn_data/MNIST/raw/train-images-idx3-ubyte.gz\n"
          ]
        },
        {
          "output_type": "stream",
          "name": "stderr",
          "text": [
            "100%|██████████| 9912422/9912422 [00:00<00:00, 19851888.70it/s]\n"
          ]
        },
        {
          "output_type": "stream",
          "name": "stdout",
          "text": [
            "Extracting /cnn_data/MNIST/raw/train-images-idx3-ubyte.gz to /cnn_data/MNIST/raw\n",
            "\n",
            "Downloading http://yann.lecun.com/exdb/mnist/train-labels-idx1-ubyte.gz\n",
            "Failed to download (trying next):\n",
            "HTTP Error 403: Forbidden\n",
            "\n",
            "Downloading https://ossci-datasets.s3.amazonaws.com/mnist/train-labels-idx1-ubyte.gz\n",
            "Downloading https://ossci-datasets.s3.amazonaws.com/mnist/train-labels-idx1-ubyte.gz to /cnn_data/MNIST/raw/train-labels-idx1-ubyte.gz\n"
          ]
        },
        {
          "output_type": "stream",
          "name": "stderr",
          "text": [
            "100%|██████████| 28881/28881 [00:00<00:00, 633114.49it/s]\n"
          ]
        },
        {
          "output_type": "stream",
          "name": "stdout",
          "text": [
            "Extracting /cnn_data/MNIST/raw/train-labels-idx1-ubyte.gz to /cnn_data/MNIST/raw\n",
            "\n",
            "Downloading http://yann.lecun.com/exdb/mnist/t10k-images-idx3-ubyte.gz\n",
            "Failed to download (trying next):\n",
            "HTTP Error 403: Forbidden\n",
            "\n",
            "Downloading https://ossci-datasets.s3.amazonaws.com/mnist/t10k-images-idx3-ubyte.gz\n",
            "Downloading https://ossci-datasets.s3.amazonaws.com/mnist/t10k-images-idx3-ubyte.gz to /cnn_data/MNIST/raw/t10k-images-idx3-ubyte.gz\n"
          ]
        },
        {
          "output_type": "stream",
          "name": "stderr",
          "text": [
            "100%|██████████| 1648877/1648877 [00:00<00:00, 4178629.80it/s]\n"
          ]
        },
        {
          "output_type": "stream",
          "name": "stdout",
          "text": [
            "Extracting /cnn_data/MNIST/raw/t10k-images-idx3-ubyte.gz to /cnn_data/MNIST/raw\n",
            "\n",
            "Downloading http://yann.lecun.com/exdb/mnist/t10k-labels-idx1-ubyte.gz\n",
            "Failed to download (trying next):\n",
            "HTTP Error 403: Forbidden\n",
            "\n",
            "Downloading https://ossci-datasets.s3.amazonaws.com/mnist/t10k-labels-idx1-ubyte.gz\n",
            "Downloading https://ossci-datasets.s3.amazonaws.com/mnist/t10k-labels-idx1-ubyte.gz to /cnn_data/MNIST/raw/t10k-labels-idx1-ubyte.gz\n"
          ]
        },
        {
          "output_type": "stream",
          "name": "stderr",
          "text": [
            "100%|██████████| 4542/4542 [00:00<00:00, 3824639.38it/s]"
          ]
        },
        {
          "output_type": "stream",
          "name": "stdout",
          "text": [
            "Extracting /cnn_data/MNIST/raw/t10k-labels-idx1-ubyte.gz to /cnn_data/MNIST/raw\n",
            "\n"
          ]
        },
        {
          "output_type": "stream",
          "name": "stderr",
          "text": [
            "\n"
          ]
        }
      ]
    },
    {
      "cell_type": "code",
      "source": [
        "test_data = datasets.MNIST(root = '/cnn_data', train = False, download = True, transform=transform)"
      ],
      "metadata": {
        "id": "PBaMGAFJ2Xri"
      },
      "execution_count": 5,
      "outputs": []
    },
    {
      "cell_type": "code",
      "source": [
        "train_data"
      ],
      "metadata": {
        "colab": {
          "base_uri": "https://localhost:8080/"
        },
        "id": "afCirc672gP_",
        "outputId": "daca364a-8029-4123-bc0e-f2aa5583f43a"
      },
      "execution_count": 32,
      "outputs": [
        {
          "output_type": "execute_result",
          "data": {
            "text/plain": [
              "Dataset MNIST\n",
              "    Number of datapoints: 60000\n",
              "    Root location: /cnn_data\n",
              "    Split: Train\n",
              "    StandardTransform\n",
              "Transform: ToTensor()"
            ]
          },
          "metadata": {},
          "execution_count": 32
        }
      ]
    },
    {
      "cell_type": "code",
      "source": [
        "test_data"
      ],
      "metadata": {
        "colab": {
          "base_uri": "https://localhost:8080/"
        },
        "id": "eruiAVbc2kTU",
        "outputId": "809fa2ac-d149-440f-f1cc-28857b5cfb1e"
      },
      "execution_count": 33,
      "outputs": [
        {
          "output_type": "execute_result",
          "data": {
            "text/plain": [
              "Dataset MNIST\n",
              "    Number of datapoints: 10000\n",
              "    Root location: /cnn_data\n",
              "    Split: Test\n",
              "    StandardTransform\n",
              "Transform: ToTensor()"
            ]
          },
          "metadata": {},
          "execution_count": 33
        }
      ]
    },
    {
      "cell_type": "code",
      "source": [
        "# Set the batch_size and create loader\n",
        "train_loader = DataLoader(train_data, batch_size = 10, shuffle = True)\n",
        "test_loader = DataLoader(test_data, batch_size = 10, shuffle = False)"
      ],
      "metadata": {
        "id": "9f_oSwYL24Bm"
      },
      "execution_count": 34,
      "outputs": []
    },
    {
      "cell_type": "code",
      "source": [
        "# Define our CNN model\n",
        "# Describe convolutional layer and what its doing\n",
        "conv1 = nn.Conv2d(in_channels = 1, out_channels = 6, kernel_size = 3, stride = 1)\n",
        "conv2 = nn.Conv2d(in_channels = 6, out_channels = 16, kernel_size = 3, stride = 1)\n"
      ],
      "metadata": {
        "id": "qYZjEtGj3rPM"
      },
      "execution_count": 35,
      "outputs": []
    },
    {
      "cell_type": "code",
      "source": [
        "# Take 1 image\n",
        "for i, (X_Train, y_train) in enumerate(train_data):\n",
        "    break\n"
      ],
      "metadata": {
        "id": "RPY_R-XO4TPp"
      },
      "execution_count": 14,
      "outputs": []
    },
    {
      "cell_type": "code",
      "source": [
        "X_Train.shape"
      ],
      "metadata": {
        "colab": {
          "base_uri": "https://localhost:8080/"
        },
        "id": "vU9CKF9J4msJ",
        "outputId": "cb706f11-719e-41fb-f850-9de536bdc3a4"
      },
      "execution_count": 15,
      "outputs": [
        {
          "output_type": "execute_result",
          "data": {
            "text/plain": [
              "torch.Size([1, 28, 28])"
            ]
          },
          "metadata": {},
          "execution_count": 15
        }
      ]
    },
    {
      "cell_type": "code",
      "source": [
        "x = X_Train.view(1,1,28,28)"
      ],
      "metadata": {
        "id": "LO-42vwi4sgJ"
      },
      "execution_count": 16,
      "outputs": []
    },
    {
      "cell_type": "code",
      "source": [
        "# perfoprm first convulation\n",
        "x = F.relu(conv1(x)) # Rectified Linear unit for our activation function"
      ],
      "metadata": {
        "id": "8CGNSu814yaS"
      },
      "execution_count": 17,
      "outputs": []
    },
    {
      "cell_type": "code",
      "source": [
        "# 1 single image, 6 is the filters, we did not define the padding so it dropped to 26 pixels\n",
        "x.shape"
      ],
      "metadata": {
        "colab": {
          "base_uri": "https://localhost:8080/"
        },
        "id": "96EPXXit5AkT",
        "outputId": "8b49c009-081f-4126-b220-e99234bdfd82"
      },
      "execution_count": 19,
      "outputs": [
        {
          "output_type": "execute_result",
          "data": {
            "text/plain": [
              "torch.Size([1, 6, 26, 26])"
            ]
          },
          "metadata": {},
          "execution_count": 19
        }
      ]
    },
    {
      "cell_type": "code",
      "source": [
        "# Pass through the pooling layer\n",
        "x = F.max_pool2d(x, 2, 2)# kernel of 2 and stride of 2"
      ],
      "metadata": {
        "id": "YTRZxFE_5g9R"
      },
      "execution_count": 21,
      "outputs": []
    },
    {
      "cell_type": "code",
      "source": [
        "x.shape # 26/2 = 13"
      ],
      "metadata": {
        "colab": {
          "base_uri": "https://localhost:8080/"
        },
        "id": "xGR0xIup57SA",
        "outputId": "a2ffded9-85ad-4c93-ec21-d93085121bf7"
      },
      "execution_count": 23,
      "outputs": [
        {
          "output_type": "execute_result",
          "data": {
            "text/plain": [
              "torch.Size([1, 6, 13, 13])"
            ]
          },
          "metadata": {},
          "execution_count": 23
        }
      ]
    },
    {
      "cell_type": "code",
      "source": [
        "# Second convolutional layer\n",
        "x = F.relu(conv2(x))"
      ],
      "metadata": {
        "id": "i4rNLjtz6Eu7"
      },
      "execution_count": 24,
      "outputs": []
    },
    {
      "cell_type": "code",
      "source": [
        "x.shape # 16 becoz of second layer as 16, no padding so 11"
      ],
      "metadata": {
        "colab": {
          "base_uri": "https://localhost:8080/"
        },
        "id": "9stHCkPG6Vis",
        "outputId": "2032ff2f-d861-4fea-c5da-b39ea5e47efe"
      },
      "execution_count": 25,
      "outputs": [
        {
          "output_type": "execute_result",
          "data": {
            "text/plain": [
              "torch.Size([1, 16, 11, 11])"
            ]
          },
          "metadata": {},
          "execution_count": 25
        }
      ]
    },
    {
      "cell_type": "code",
      "source": [
        "# Pooling layer\n",
        "x = F.max_pool2d(x, 2, 2)"
      ],
      "metadata": {
        "id": "Ib5guaFU6l5Y"
      },
      "execution_count": 26,
      "outputs": []
    },
    {
      "cell_type": "code",
      "source": [
        "x.shape"
      ],
      "metadata": {
        "colab": {
          "base_uri": "https://localhost:8080/"
        },
        "id": "fIAuZotl6tqS",
        "outputId": "0f168602-bea6-4af2-d7b4-bf265ffbc85a"
      },
      "execution_count": 27,
      "outputs": [
        {
          "output_type": "execute_result",
          "data": {
            "text/plain": [
              "torch.Size([1, 16, 5, 5])"
            ]
          },
          "metadata": {},
          "execution_count": 27
        }
      ]
    },
    {
      "cell_type": "code",
      "source": [
        "# Model Class\n",
        "class CNNModel(nn.Module):\n",
        "    def __init__(self):\n",
        "        super().__init__()\n",
        "        self.conv1 = nn.Conv2d(1,6,3,1)\n",
        "        self.conv2 = nn.Conv2d(6,16,3,1)\n",
        "\n",
        "        # Fully connected layer\n",
        "        self.fc1 = nn.Linear(5*5*16, 120)\n",
        "        self.fc2 = nn.Linear(120, 84)\n",
        "        self.fc3 = nn.Linear(84,10)\n",
        "\n",
        "    def forward(self,x):\n",
        "        x = F.relu(self.conv1(x))\n",
        "        x = F.max_pool2d(x, 2, 2) # 2X2 kernal and stride 2\n",
        "        x = F.relu(self.conv2(x))\n",
        "        x = F.max_pool2d(x, 2, 2)\n",
        "\n",
        "        # Review to flatten the data\n",
        "        x = x.view(-1, 16*5*5) # negative one so that we can vary the batch size\n",
        "        # Fully Conntect Layers\n",
        "        x = F.relu(self.fc1(x))\n",
        "        x = F.relu(self.fc2(x))\n",
        "        x = self.fc3(x)\n",
        "        return F.log_softmax(x, dim = 1)\n"
      ],
      "metadata": {
        "id": "rfMCtc10LGx3"
      },
      "execution_count": 48,
      "outputs": []
    },
    {
      "cell_type": "code",
      "source": [
        "# Create an instance of our Model\n",
        "torch.manual_seed(81)\n",
        "model = CNNModel()\n",
        "model"
      ],
      "metadata": {
        "colab": {
          "base_uri": "https://localhost:8080/"
        },
        "id": "Rgufw-AKOEju",
        "outputId": "befdb069-e2d2-4930-c85b-d3a907fc1edb"
      },
      "execution_count": 49,
      "outputs": [
        {
          "output_type": "execute_result",
          "data": {
            "text/plain": [
              "CNNModel(\n",
              "  (conv1): Conv2d(1, 6, kernel_size=(3, 3), stride=(1, 1))\n",
              "  (conv2): Conv2d(6, 16, kernel_size=(3, 3), stride=(1, 1))\n",
              "  (fc1): Linear(in_features=400, out_features=120, bias=True)\n",
              "  (fc2): Linear(in_features=120, out_features=84, bias=True)\n",
              "  (fc3): Linear(in_features=84, out_features=10, bias=True)\n",
              ")"
            ]
          },
          "metadata": {},
          "execution_count": 49
        }
      ]
    },
    {
      "cell_type": "code",
      "source": [
        "# Loss Function Optimizer\n",
        "criterion = nn.CrossEntropyLoss()\n",
        "optimizer = torch.optim.Adam(model.parameters(), lr = 0.01) # smaller the learning rate, longer its gonna take to train"
      ],
      "metadata": {
        "id": "m5F9ctOyOrW1"
      },
      "execution_count": 50,
      "outputs": []
    },
    {
      "cell_type": "code",
      "source": [
        "import time\n",
        "start_time = time.time()\n",
        "# Create Variables to track things\n",
        "epochs = 5\n",
        "train_losses = []\n",
        "test_losses = []\n",
        "train_correct = []\n",
        "test_correct = []\n",
        "for i in range(epochs):\n",
        "    trn_corr = 0\n",
        "    tst_corr = 0\n",
        "    for b, (X_train, y_train) in enumerate(train_loader):\n",
        "        b+=1 # Start the batches at 1\n",
        "        # Apply the model\n",
        "        y_pred = model(X_train) # Get the predicted value - not flattened D\n",
        "        loss = criterion(y_pred, y_train) # compare predictions to correct labels\n",
        "        predicted = torch.max(y_pred.data, 1)[1] # add up the number of correct predictions\n",
        "        batch_corr = (predicted == y_train).sum() # how many we got correct from this batch\n",
        "        trn_corr += batch_corr #Keep track as we go along in training\n",
        "        optimizer.zero_grad()\n",
        "        loss.backward()\n",
        "        optimizer.step()\n",
        "\n",
        "        if b%600 == 0:\n",
        "            print(f'epoch: {i} batch: {b} loss: {loss.item()}')\n",
        "    train_losses.append(loss)\n",
        "    train_correct.append(trn_corr)\n",
        "\n",
        "    # Test\n",
        "    with torch.no_grad(): # No gradint so we donot update our weights and biases\n",
        "        for b, (X_test, y_test) in enumerate(test_loader):\n",
        "            y_val = model(X_test)\n",
        "            predicted = torch.max(y_val.data, 1)[1] # adding up correct predictions\n",
        "            tst_corr += (predicted == y_test).sum()\n",
        "        loss = criterion(y_val, y_test)\n",
        "        test_losses.append(loss)\n",
        "        test_correct.append(tst_corr)\n",
        "\n",
        "\n",
        "\n",
        "current_time = time.time()\n",
        "total = current_time-start_time\n",
        "print(f'Total time: {total/60} minutes')"
      ],
      "metadata": {
        "colab": {
          "base_uri": "https://localhost:8080/"
        },
        "id": "S_HD70jVPLji",
        "outputId": "ff6df762-9e3a-4b61-e6b1-370b2acd6af1"
      },
      "execution_count": 52,
      "outputs": [
        {
          "output_type": "stream",
          "name": "stdout",
          "text": [
            "epoch: 0 batch: 600 loss: 0.17548519372940063\n",
            "epoch: 0 batch: 1200 loss: 0.26744264364242554\n",
            "epoch: 0 batch: 1800 loss: 0.007082493044435978\n",
            "epoch: 0 batch: 2400 loss: 0.20806293189525604\n",
            "epoch: 0 batch: 3000 loss: 0.016682909801602364\n",
            "epoch: 0 batch: 3600 loss: 0.054833002388477325\n",
            "epoch: 0 batch: 4200 loss: 0.021794412285089493\n",
            "epoch: 0 batch: 4800 loss: 0.008827694691717625\n",
            "epoch: 0 batch: 5400 loss: 0.010525593534111977\n",
            "epoch: 0 batch: 6000 loss: 0.06951300799846649\n",
            "epoch: 1 batch: 600 loss: 0.1018005758523941\n",
            "epoch: 1 batch: 1200 loss: 1.5885639190673828\n",
            "epoch: 1 batch: 1800 loss: 0.22876933217048645\n",
            "epoch: 1 batch: 2400 loss: 0.025363732129335403\n",
            "epoch: 1 batch: 3000 loss: 0.30134326219558716\n",
            "epoch: 1 batch: 3600 loss: 0.2699052691459656\n",
            "epoch: 1 batch: 4200 loss: 0.14493343234062195\n",
            "epoch: 1 batch: 4800 loss: 0.09168615937232971\n",
            "epoch: 1 batch: 5400 loss: 0.13209156692028046\n",
            "epoch: 1 batch: 6000 loss: 0.1980893760919571\n",
            "epoch: 2 batch: 600 loss: 0.24776677787303925\n",
            "epoch: 2 batch: 1200 loss: 0.02303912304341793\n",
            "epoch: 2 batch: 1800 loss: 0.03426562249660492\n",
            "epoch: 2 batch: 2400 loss: 0.35426807403564453\n",
            "epoch: 2 batch: 3000 loss: 0.4689236581325531\n",
            "epoch: 2 batch: 3600 loss: 0.3487286865711212\n",
            "epoch: 2 batch: 4200 loss: 0.0028705080039799213\n",
            "epoch: 2 batch: 4800 loss: 0.09483688324689865\n",
            "epoch: 2 batch: 5400 loss: 0.11211977154016495\n",
            "epoch: 2 batch: 6000 loss: 0.0014107433380559087\n",
            "epoch: 3 batch: 600 loss: 0.005241203587502241\n",
            "epoch: 3 batch: 1200 loss: 0.01399743091315031\n",
            "epoch: 3 batch: 1800 loss: 0.039631981402635574\n",
            "epoch: 3 batch: 2400 loss: 0.6993101239204407\n",
            "epoch: 3 batch: 3000 loss: 1.1002118587493896\n",
            "epoch: 3 batch: 3600 loss: 0.040259163826704025\n",
            "epoch: 3 batch: 4200 loss: 0.015014643780887127\n",
            "epoch: 3 batch: 4800 loss: 0.02080029621720314\n",
            "epoch: 3 batch: 5400 loss: 0.00693279504776001\n",
            "epoch: 3 batch: 6000 loss: 0.0008032600162550807\n",
            "epoch: 4 batch: 600 loss: 0.32131069898605347\n",
            "epoch: 4 batch: 1200 loss: 0.00023195496760308743\n",
            "epoch: 4 batch: 1800 loss: 1.8230006694793701\n",
            "epoch: 4 batch: 2400 loss: 0.08253516256809235\n",
            "epoch: 4 batch: 3000 loss: 0.25751790404319763\n",
            "epoch: 4 batch: 3600 loss: 0.035117290914058685\n",
            "epoch: 4 batch: 4200 loss: 0.03050205484032631\n",
            "epoch: 4 batch: 4800 loss: 0.014247509650886059\n",
            "epoch: 4 batch: 5400 loss: 0.0022365532349795103\n",
            "epoch: 4 batch: 6000 loss: 0.0574253611266613\n",
            "Total time: 3.7376940647761026 minutes\n"
          ]
        }
      ]
    },
    {
      "cell_type": "code",
      "source": [
        "# Graph loss at each epoch\n",
        "\n",
        "train_losses = [t.item() for t in train_losses]\n",
        "test_losses = [t.item() for t in test_losses]\n",
        "plt.plot(train_losses, label = 'training loss')\n",
        "plt.plot(test_losses, label = 'test loss')\n",
        "plt.title('Loss at each epoch')\n",
        "plt.legend()"
      ],
      "metadata": {
        "colab": {
          "base_uri": "https://localhost:8080/",
          "height": 470
        },
        "id": "9DAi-GwkU6n3",
        "outputId": "b2bf41a3-6ae1-4ebe-a8a6-fe7512775688"
      },
      "execution_count": 54,
      "outputs": [
        {
          "output_type": "execute_result",
          "data": {
            "text/plain": [
              "<matplotlib.legend.Legend at 0x7c6efd2924d0>"
            ]
          },
          "metadata": {},
          "execution_count": 54
        },
        {
          "output_type": "display_data",
          "data": {
            "text/plain": [
              "<Figure size 640x480 with 1 Axes>"
            ],
            "image/png": "[encoded data removed]"
          },
          "metadata": {}
        }
      ]
    },
    {
      "cell_type": "code",
      "source": [
        "# Graph the accuracy at the end of the epoch\n",
        "plt.plot([t/600 for t in train_correct], label = 'training accuracy')\n",
        "plt.plot([t/100 for t in test_correct], label = 'test accuracy')\n",
        "plt.title('Accuracy at the end of the epoch')\n",
        "plt.legend()"
      ],
      "metadata": {
        "colab": {
          "base_uri": "https://localhost:8080/",
          "height": 470
        },
        "id": "KqjaTbPzVaVy",
        "outputId": "db9aa51a-a064-4b22-80ae-d54e4281ac25"
      },
      "execution_count": 56,
      "outputs": [
        {
          "output_type": "execute_result",
          "data": {
            "text/plain": [
              "<matplotlib.legend.Legend at 0x7c6efb93e770>"
            ]
          },
          "metadata": {},
          "execution_count": 56
        },
        {
          "output_type": "display_data",
          "data": {
            "text/plain": [
              "<Figure size 640x480 with 1 Axes>"
            ],
            "image/png": "[encoded data removed]"
          },
          "metadata": {}
        }
      ]
    },
    {
      "cell_type": "code",
      "source": [
        "test_load_everything = DataLoader(test_data,batch_size = 10000, shuffle = False)\n",
        "with torch.no_grad():\n",
        "    correct = 0\n",
        "    for x_test, y_test in test_load_everything:\n",
        "        y_val = model(x_test)\n",
        "        predicted = torch.max(y_val.data, 1)[1]\n",
        "        correct += (predicted == y_test).sum()\n",
        "\n",
        "print(f'Test accuracy: {correct/len(test_data)}')"
      ],
      "metadata": {
        "colab": {
          "base_uri": "https://localhost:8080/"
        },
        "id": "euoLxfKPV9nU",
        "outputId": "45c8fc11-6cf7-465c-c6cc-d83760de9a9a"
      },
      "execution_count": 57,
      "outputs": [
        {
          "output_type": "stream",
          "name": "stdout",
          "text": [
            "Test accuracy: 0.9391999840736389\n"
          ]
        }
      ]
    },
    {
      "cell_type": "code",
      "source": [
        "correct.item()"
      ],
      "metadata": {
        "colab": {
          "base_uri": "https://localhost:8080/"
        },
        "id": "Az7yxe_HWifU",
        "outputId": "8cf6d8f4-08d0-4317-9557-b79b6d1d14ff"
      },
      "execution_count": 58,
      "outputs": [
        {
          "output_type": "execute_result",
          "data": {
            "text/plain": [
              "9392"
            ]
          },
          "metadata": {},
          "execution_count": 58
        }
      ]
    }
  ]
}